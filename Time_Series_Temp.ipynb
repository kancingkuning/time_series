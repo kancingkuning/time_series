{
  "nbformat": 4,
  "nbformat_minor": 0,
  "metadata": {
    "colab": {
      "provenance": [],
      "collapsed_sections": []
    },
    "kernelspec": {
      "name": "python3",
      "display_name": "Python 3"
    },
    "language_info": {
      "name": "python"
    }
  },
  "cells": [
    {
      "cell_type": "markdown",
      "source": [
        "##Project 2: Time Series"
      ],
      "metadata": {
        "id": "F1wSEjow1AXu"
      }
    },
    {
      "cell_type": "code",
      "execution_count": 43,
      "metadata": {
        "id": "LW-N5Sq2094E"
      },
      "outputs": [],
      "source": [
        "import numpy as np\n",
        "import pandas as pd\n",
        "from keras.layers import Dense, LSTM\n",
        "import matplotlib.pyplot as plt\n",
        "import seaborn as sns\n",
        "import tensorflow as tf\n",
        "from sklearn.preprocessing import MinMaxScaler\n",
        "from sklearn.preprocessing import StandardScaler\n",
        "from sklearn.model_selection import train_test_split"
      ]
    },
    {
      "cell_type": "code",
      "source": [
        "train = pd.read_csv('/content/drive/MyDrive/DATA/daily-max-temperatures.csv')\n",
        "train.head()"
      ],
      "metadata": {
        "colab": {
          "base_uri": "https://localhost:8080/",
          "height": 206
        },
        "id": "lfhALSz_1eIS",
        "outputId": "ab39e6a1-a006-4e8e-efd4-f09dc31e996e"
      },
      "execution_count": 44,
      "outputs": [
        {
          "output_type": "execute_result",
          "data": {
            "text/plain": [
              "         Date  Temperature\n",
              "0  1981-01-01         38.1\n",
              "1  1981-01-02         32.4\n",
              "2  1981-01-03         34.5\n",
              "3  1981-01-04         20.7\n",
              "4  1981-01-05         21.5"
            ],
            "text/html": [
              "\n",
              "  <div id=\"df-334f602f-672f-4e67-9ced-fb9e107db6f0\">\n",
              "    <div class=\"colab-df-container\">\n",
              "      <div>\n",
              "<style scoped>\n",
              "    .dataframe tbody tr th:only-of-type {\n",
              "        vertical-align: middle;\n",
              "    }\n",
              "\n",
              "    .dataframe tbody tr th {\n",
              "        vertical-align: top;\n",
              "    }\n",
              "\n",
              "    .dataframe thead th {\n",
              "        text-align: right;\n",
              "    }\n",
              "</style>\n",
              "<table border=\"1\" class=\"dataframe\">\n",
              "  <thead>\n",
              "    <tr style=\"text-align: right;\">\n",
              "      <th></th>\n",
              "      <th>Date</th>\n",
              "      <th>Temperature</th>\n",
              "    </tr>\n",
              "  </thead>\n",
              "  <tbody>\n",
              "    <tr>\n",
              "      <th>0</th>\n",
              "      <td>1981-01-01</td>\n",
              "      <td>38.1</td>\n",
              "    </tr>\n",
              "    <tr>\n",
              "      <th>1</th>\n",
              "      <td>1981-01-02</td>\n",
              "      <td>32.4</td>\n",
              "    </tr>\n",
              "    <tr>\n",
              "      <th>2</th>\n",
              "      <td>1981-01-03</td>\n",
              "      <td>34.5</td>\n",
              "    </tr>\n",
              "    <tr>\n",
              "      <th>3</th>\n",
              "      <td>1981-01-04</td>\n",
              "      <td>20.7</td>\n",
              "    </tr>\n",
              "    <tr>\n",
              "      <th>4</th>\n",
              "      <td>1981-01-05</td>\n",
              "      <td>21.5</td>\n",
              "    </tr>\n",
              "  </tbody>\n",
              "</table>\n",
              "</div>\n",
              "      <button class=\"colab-df-convert\" onclick=\"convertToInteractive('df-334f602f-672f-4e67-9ced-fb9e107db6f0')\"\n",
              "              title=\"Convert this dataframe to an interactive table.\"\n",
              "              style=\"display:none;\">\n",
              "        \n",
              "  <svg xmlns=\"http://www.w3.org/2000/svg\" height=\"24px\"viewBox=\"0 0 24 24\"\n",
              "       width=\"24px\">\n",
              "    <path d=\"M0 0h24v24H0V0z\" fill=\"none\"/>\n",
              "    <path d=\"M18.56 5.44l.94 2.06.94-2.06 2.06-.94-2.06-.94-.94-2.06-.94 2.06-2.06.94zm-11 1L8.5 8.5l.94-2.06 2.06-.94-2.06-.94L8.5 2.5l-.94 2.06-2.06.94zm10 10l.94 2.06.94-2.06 2.06-.94-2.06-.94-.94-2.06-.94 2.06-2.06.94z\"/><path d=\"M17.41 7.96l-1.37-1.37c-.4-.4-.92-.59-1.43-.59-.52 0-1.04.2-1.43.59L10.3 9.45l-7.72 7.72c-.78.78-.78 2.05 0 2.83L4 21.41c.39.39.9.59 1.41.59.51 0 1.02-.2 1.41-.59l7.78-7.78 2.81-2.81c.8-.78.8-2.07 0-2.86zM5.41 20L4 18.59l7.72-7.72 1.47 1.35L5.41 20z\"/>\n",
              "  </svg>\n",
              "      </button>\n",
              "      \n",
              "  <style>\n",
              "    .colab-df-container {\n",
              "      display:flex;\n",
              "      flex-wrap:wrap;\n",
              "      gap: 12px;\n",
              "    }\n",
              "\n",
              "    .colab-df-convert {\n",
              "      background-color: #E8F0FE;\n",
              "      border: none;\n",
              "      border-radius: 50%;\n",
              "      cursor: pointer;\n",
              "      display: none;\n",
              "      fill: #1967D2;\n",
              "      height: 32px;\n",
              "      padding: 0 0 0 0;\n",
              "      width: 32px;\n",
              "    }\n",
              "\n",
              "    .colab-df-convert:hover {\n",
              "      background-color: #E2EBFA;\n",
              "      box-shadow: 0px 1px 2px rgba(60, 64, 67, 0.3), 0px 1px 3px 1px rgba(60, 64, 67, 0.15);\n",
              "      fill: #174EA6;\n",
              "    }\n",
              "\n",
              "    [theme=dark] .colab-df-convert {\n",
              "      background-color: #3B4455;\n",
              "      fill: #D2E3FC;\n",
              "    }\n",
              "\n",
              "    [theme=dark] .colab-df-convert:hover {\n",
              "      background-color: #434B5C;\n",
              "      box-shadow: 0px 1px 3px 1px rgba(0, 0, 0, 0.15);\n",
              "      filter: drop-shadow(0px 1px 2px rgba(0, 0, 0, 0.3));\n",
              "      fill: #FFFFFF;\n",
              "    }\n",
              "  </style>\n",
              "\n",
              "      <script>\n",
              "        const buttonEl =\n",
              "          document.querySelector('#df-334f602f-672f-4e67-9ced-fb9e107db6f0 button.colab-df-convert');\n",
              "        buttonEl.style.display =\n",
              "          google.colab.kernel.accessAllowed ? 'block' : 'none';\n",
              "\n",
              "        async function convertToInteractive(key) {\n",
              "          const element = document.querySelector('#df-334f602f-672f-4e67-9ced-fb9e107db6f0');\n",
              "          const dataTable =\n",
              "            await google.colab.kernel.invokeFunction('convertToInteractive',\n",
              "                                                     [key], {});\n",
              "          if (!dataTable) return;\n",
              "\n",
              "          const docLinkHtml = 'Like what you see? Visit the ' +\n",
              "            '<a target=\"_blank\" href=https://colab.research.google.com/notebooks/data_table.ipynb>data table notebook</a>'\n",
              "            + ' to learn more about interactive tables.';\n",
              "          element.innerHTML = '';\n",
              "          dataTable['output_type'] = 'display_data';\n",
              "          await google.colab.output.renderOutput(dataTable, element);\n",
              "          const docLink = document.createElement('div');\n",
              "          docLink.innerHTML = docLinkHtml;\n",
              "          element.appendChild(docLink);\n",
              "        }\n",
              "      </script>\n",
              "    </div>\n",
              "  </div>\n",
              "  "
            ]
          },
          "metadata": {},
          "execution_count": 44
        }
      ]
    },
    {
      "cell_type": "code",
      "source": [
        "train.describe"
      ],
      "metadata": {
        "colab": {
          "base_uri": "https://localhost:8080/"
        },
        "id": "kEct2kkY7U_O",
        "outputId": "ac2c8623-22ce-4c12-a512-72e4811db803"
      },
      "execution_count": 45,
      "outputs": [
        {
          "output_type": "execute_result",
          "data": {
            "text/plain": [
              "<bound method NDFrame.describe of             Date  Temperature\n",
              "0     1981-01-01         38.1\n",
              "1     1981-01-02         32.4\n",
              "2     1981-01-03         34.5\n",
              "3     1981-01-04         20.7\n",
              "4     1981-01-05         21.5\n",
              "...          ...          ...\n",
              "3645  1990-12-27         37.6\n",
              "3646  1990-12-28         23.2\n",
              "3647  1990-12-29         25.1\n",
              "3648  1990-12-30         24.4\n",
              "3649  1990-12-31         24.6\n",
              "\n",
              "[3650 rows x 2 columns]>"
            ]
          },
          "metadata": {},
          "execution_count": 45
        }
      ]
    },
    {
      "cell_type": "code",
      "source": [
        "train.isnull().sum()"
      ],
      "metadata": {
        "colab": {
          "base_uri": "https://localhost:8080/"
        },
        "id": "xDS0ki1A7eIP",
        "outputId": "f2068aa7-71de-476d-e69e-99f3b0eea8cb"
      },
      "execution_count": 46,
      "outputs": [
        {
          "output_type": "execute_result",
          "data": {
            "text/plain": [
              "Date           0\n",
              "Temperature    0\n",
              "dtype: int64"
            ]
          },
          "metadata": {},
          "execution_count": 46
        }
      ]
    },
    {
      "cell_type": "code",
      "source": [
        "train['Temperature'] = train['Temperature'].astype(float)"
      ],
      "metadata": {
        "id": "QblsXDKJsWR9"
      },
      "execution_count": 47,
      "outputs": []
    },
    {
      "cell_type": "code",
      "source": [
        "dates = train['Date'].values\n",
        "temp  = train['Temperature'].values\n",
        " \n",
        "plt.figure(figsize=(15,5))\n",
        "plt.plot(dates, temp)\n",
        "plt.title('Daily Max Temperature',\n",
        "          fontsize=20);"
      ],
      "metadata": {
        "colab": {
          "base_uri": "https://localhost:8080/",
          "height": 341
        },
        "id": "V34P02Lh7kNj",
        "outputId": "2ad83d4d-fa06-4783-d765-77e5e3d81b6b"
      },
      "execution_count": 48,
      "outputs": [
        {
          "output_type": "display_data",
          "data": {
            "text/plain": [
              "<Figure size 1080x360 with 1 Axes>"
            ],
            "image/png": "[encoded data removed]"
          },
          "metadata": {
            "needs_background": "light"
          }
        }
      ]
    },
    {
      "cell_type": "code",
      "source": [
        "date_temp, date_test, temp_train, temp_test  = train_test_split(dates, temp, test_size=0.2, shuffle=False)"
      ],
      "metadata": {
        "id": "ksC1Z7FACW1D"
      },
      "execution_count": 52,
      "outputs": []
    },
    {
      "cell_type": "code",
      "source": [
        "def windowed(series, window_size, batch_size, shuffle_buffer):\n",
        "  series = tf.expand_dims(series, axis=1)\n",
        "  ds = tf.data.Dataset.from_tensor_slices(series)\n",
        "  ds = ds.window(window_size + 1, shift=1, drop_remainder=True)\n",
        "  ds = ds.flat_map(lambda w: w.batch(window_size + 1))\n",
        "  ds = ds.shuffle(shuffle_buffer)\n",
        "  ds = ds.map(lambda w: (w[:-1], w[-1:]))\n",
        "  return ds.batch(batch_size).prefetch(1)"
      ],
      "metadata": {
        "id": "4T4fkxFQCeBX"
      },
      "execution_count": 53,
      "outputs": []
    },
    {
      "cell_type": "code",
      "source": [
        "train_set = windowed(temp_train, window_size=60, batch_size=120, shuffle_buffer=1000)\n",
        "test_set = windowed(temp_test, window_size=60, batch_size=120, shuffle_buffer=1000)\n",
        "\n",
        "model = tf.keras.models.Sequential([\n",
        "    tf.keras.layers.LSTM(50, return_sequences=True, input_shape=[None, 1]),\n",
        "    tf.keras.layers.LSTM(50),\n",
        "    tf.keras.layers.Dense(30, activation=\"relu\"),\n",
        "    tf.keras.layers.Dense(10, activation=\"relu\"),\n",
        "    tf.keras.layers.Dense(1),\n",
        "    ])"
      ],
      "metadata": {
        "id": "pMp38kNVDn1h"
      },
      "execution_count": 54,
      "outputs": []
    },
    {
      "cell_type": "code",
      "source": [
        "tresshold = (train['Temperature'].max() - train['Temperature'].min()) * 10/100\n",
        "print(tresshold)"
      ],
      "metadata": {
        "colab": {
          "base_uri": "https://localhost:8080/"
        },
        "id": "r7GS1jtxHcjt",
        "outputId": "bc1a9a68-0104-46df-b830-c66890b25638"
      },
      "execution_count": 55,
      "outputs": [
        {
          "output_type": "stream",
          "name": "stdout",
          "text": [
            "3.63\n"
          ]
        }
      ]
    },
    {
      "cell_type": "code",
      "source": [
        "class myCallback(tf.keras.callbacks.Callback):\n",
        "  def on_epoch_end(self, epoch, logs={}):\n",
        "    if (logs.get('mae')<tresshold) & (logs.get('val_mae')<tresshold):\n",
        "      print('\\sudah mencapai <10%!')\n",
        "      self.model.stop_training = True\n",
        "\n",
        "callbacks = myCallback()"
      ],
      "metadata": {
        "id": "27C6FylCyI5w"
      },
      "execution_count": 56,
      "outputs": []
    },
    {
      "cell_type": "code",
      "source": [
        "optimizer = tf.keras.optimizers.SGD(learning_rate=1.0000e-04, momentum=0.9)\n",
        "model.compile(loss=tf.keras.losses.Huber(),\n",
        "              optimizer=optimizer,\n",
        "              metrics=[\"mae\"])"
      ],
      "metadata": {
        "id": "L0KOwEGny6GK"
      },
      "execution_count": 57,
      "outputs": []
    },
    {
      "cell_type": "code",
      "source": [
        "history = model.fit(train_set, \n",
        "                    validation_data=(test_set),\n",
        "                    epochs=100,\n",
        "                    verbose=2,\n",
        "                    callbacks=[callbacks])"
      ],
      "metadata": {
        "colab": {
          "base_uri": "https://localhost:8080/"
        },
        "id": "4fon7oTpD6b2",
        "outputId": "799de99d-acbb-4ea9-f5ec-58e4b7ee51eb"
      },
      "execution_count": 58,
      "outputs": [
        {
          "output_type": "stream",
          "name": "stdout",
          "text": [
            "Epoch 1/100\n",
            "24/24 - 8s - loss: 19.1387 - mae: 19.6387 - val_loss: 18.9259 - val_mae: 19.4259 - 8s/epoch - 348ms/step\n",
            "Epoch 2/100\n",
            "24/24 - 3s - loss: 18.9910 - mae: 19.4910 - val_loss: 18.7879 - val_mae: 19.2879 - 3s/epoch - 137ms/step\n",
            "Epoch 3/100\n",
            "24/24 - 3s - loss: 18.8382 - mae: 19.3382 - val_loss: 18.6289 - val_mae: 19.1289 - 3s/epoch - 137ms/step\n",
            "Epoch 4/100\n",
            "24/24 - 3s - loss: 18.6733 - mae: 19.1733 - val_loss: 18.4506 - val_mae: 18.9506 - 3s/epoch - 139ms/step\n",
            "Epoch 5/100\n",
            "24/24 - 3s - loss: 18.4791 - mae: 18.9791 - val_loss: 18.2379 - val_mae: 18.7379 - 3s/epoch - 129ms/step\n",
            "Epoch 6/100\n",
            "24/24 - 3s - loss: 18.2462 - mae: 18.7462 - val_loss: 17.9811 - val_mae: 18.4811 - 3s/epoch - 138ms/step\n",
            "Epoch 7/100\n",
            "24/24 - 3s - loss: 17.9613 - mae: 18.4613 - val_loss: 17.6617 - val_mae: 18.1617 - 3s/epoch - 137ms/step\n",
            "Epoch 8/100\n",
            "24/24 - 3s - loss: 17.6042 - mae: 18.1042 - val_loss: 17.2598 - val_mae: 17.7598 - 3s/epoch - 137ms/step\n",
            "Epoch 9/100\n",
            "24/24 - 3s - loss: 17.1513 - mae: 17.6513 - val_loss: 16.7441 - val_mae: 17.2441 - 3s/epoch - 144ms/step\n",
            "Epoch 10/100\n",
            "24/24 - 3s - loss: 16.5633 - mae: 17.0633 - val_loss: 16.0657 - val_mae: 16.5657 - 3s/epoch - 142ms/step\n",
            "Epoch 11/100\n",
            "24/24 - 3s - loss: 15.7769 - mae: 16.2769 - val_loss: 15.1411 - val_mae: 15.6411 - 3s/epoch - 141ms/step\n",
            "Epoch 12/100\n",
            "24/24 - 3s - loss: 14.6834 - mae: 15.1834 - val_loss: 13.8329 - val_mae: 14.3329 - 3s/epoch - 141ms/step\n",
            "Epoch 13/100\n",
            "24/24 - 3s - loss: 13.1112 - mae: 13.6112 - val_loss: 11.9146 - val_mae: 12.4146 - 3s/epoch - 139ms/step\n",
            "Epoch 14/100\n",
            "24/24 - 3s - loss: 10.7368 - mae: 11.2366 - val_loss: 8.9303 - val_mae: 9.4290 - 3s/epoch - 138ms/step\n",
            "Epoch 15/100\n",
            "24/24 - 3s - loss: 7.1031 - mae: 7.5909 - val_loss: 4.9481 - val_mae: 5.4209 - 3s/epoch - 135ms/step\n",
            "Epoch 16/100\n",
            "24/24 - 3s - loss: 4.2763 - mae: 4.7536 - val_loss: 3.8944 - val_mae: 4.3646 - 3s/epoch - 131ms/step\n",
            "Epoch 17/100\n",
            "24/24 - 3s - loss: 3.9510 - mae: 4.4259 - val_loss: 3.8942 - val_mae: 4.3666 - 3s/epoch - 136ms/step\n",
            "Epoch 18/100\n",
            "24/24 - 3s - loss: 3.9370 - mae: 4.4122 - val_loss: 3.8707 - val_mae: 4.3414 - 3s/epoch - 136ms/step\n",
            "Epoch 19/100\n",
            "24/24 - 3s - loss: 3.9211 - mae: 4.3955 - val_loss: 3.8450 - val_mae: 4.3149 - 3s/epoch - 136ms/step\n",
            "Epoch 20/100\n",
            "24/24 - 3s - loss: 3.9005 - mae: 4.3746 - val_loss: 3.8296 - val_mae: 4.2996 - 3s/epoch - 140ms/step\n",
            "Epoch 21/100\n",
            "24/24 - 3s - loss: 3.8853 - mae: 4.3595 - val_loss: 3.8140 - val_mae: 4.2848 - 3s/epoch - 139ms/step\n",
            "Epoch 22/100\n",
            "24/24 - 3s - loss: 3.8691 - mae: 4.3432 - val_loss: 3.7943 - val_mae: 4.2648 - 3s/epoch - 139ms/step\n",
            "Epoch 23/100\n",
            "24/24 - 3s - loss: 3.8511 - mae: 4.3251 - val_loss: 3.7736 - val_mae: 4.2444 - 3s/epoch - 139ms/step\n",
            "Epoch 24/100\n",
            "24/24 - 5s - loss: 3.8312 - mae: 4.3050 - val_loss: 3.7488 - val_mae: 4.2191 - 5s/epoch - 199ms/step\n",
            "Epoch 25/100\n",
            "24/24 - 4s - loss: 3.8101 - mae: 4.2841 - val_loss: 3.7211 - val_mae: 4.1915 - 4s/epoch - 150ms/step\n",
            "Epoch 26/100\n",
            "24/24 - 3s - loss: 3.7812 - mae: 4.2547 - val_loss: 3.6894 - val_mae: 4.1606 - 3s/epoch - 133ms/step\n",
            "Epoch 27/100\n",
            "24/24 - 3s - loss: 3.7411 - mae: 4.2147 - val_loss: 3.5972 - val_mae: 4.0672 - 3s/epoch - 141ms/step\n",
            "Epoch 28/100\n",
            "24/24 - 3s - loss: 3.6256 - mae: 4.0985 - val_loss: 3.4278 - val_mae: 3.8991 - 3s/epoch - 143ms/step\n",
            "Epoch 29/100\n",
            "24/24 - 3s - loss: 3.4288 - mae: 3.8971 - val_loss: 3.1578 - val_mae: 3.6231 - 3s/epoch - 138ms/step\n",
            "Epoch 30/100\n",
            "24/24 - 3s - loss: 3.2965 - mae: 3.7633 - val_loss: 3.3021 - val_mae: 3.7738 - 3s/epoch - 140ms/step\n",
            "Epoch 31/100\n",
            "24/24 - 3s - loss: 3.3340 - mae: 3.8009 - val_loss: 3.1417 - val_mae: 3.6118 - 3s/epoch - 140ms/step\n",
            "Epoch 32/100\n",
            "\\sudah mencapai <10%!\n",
            "24/24 - 3s - loss: 3.1166 - mae: 3.5801 - val_loss: 2.7927 - val_mae: 3.2521 - 3s/epoch - 141ms/step\n"
          ]
        }
      ]
    },
    {
      "cell_type": "code",
      "source": [
        "mae = history.history['mae']\n",
        "val_mae = history.history['val_mae']\n",
        "loss = history.history['loss']\n",
        "val_loss = history.history['val_loss']\n",
        "epochs = range(1, len(mae) + 1)"
      ],
      "metadata": {
        "id": "I4WmQ6Us0vf0"
      },
      "execution_count": 60,
      "outputs": []
    },
    {
      "cell_type": "code",
      "source": [
        "plt.plot(mae)\n",
        "plt.plot(val_mae)\n",
        "plt.title('Grafik Akurasi')\n",
        "plt.xlabel('Epoch')\n",
        "plt.ylabel('Mae')\n",
        "plt.legend(['train', 'val'], loc = 'best')"
      ],
      "metadata": {
        "colab": {
          "base_uri": "https://localhost:8080/",
          "height": 312
        },
        "id": "Ze8Flj5c2JCz",
        "outputId": "68c033ec-566a-4d9f-c1c7-da2c2fcc7983"
      },
      "execution_count": 63,
      "outputs": [
        {
          "output_type": "execute_result",
          "data": {
            "text/plain": [
              "<matplotlib.legend.Legend at 0x7f190c264290>"
            ]
          },
          "metadata": {},
          "execution_count": 63
        },
        {
          "output_type": "display_data",
          "data": {
            "text/plain": [
              "<Figure size 432x288 with 1 Axes>"
            ],
            "image/png": "[encoded data removed]"
          },
          "metadata": {
            "needs_background": "light"
          }
        }
      ]
    },
    {
      "cell_type": "code",
      "source": [
        "plt.plot(loss)\n",
        "plt.plot(val_loss)\n",
        "plt.title('Grafik Akurasi')\n",
        "plt.xlabel('Epoch')\n",
        "plt.ylabel('Loss')\n",
        "plt.legend(['train', 'val'], loc = 'best')"
      ],
      "metadata": {
        "colab": {
          "base_uri": "https://localhost:8080/",
          "height": 312
        },
        "id": "4qFsWwcQ21UF",
        "outputId": "17aa607e-7d93-4959-d7f1-e81ae13ce8b3"
      },
      "execution_count": 65,
      "outputs": [
        {
          "output_type": "execute_result",
          "data": {
            "text/plain": [
              "<matplotlib.legend.Legend at 0x7f1911adc7d0>"
            ]
          },
          "metadata": {},
          "execution_count": 65
        },
        {
          "output_type": "display_data",
          "data": {
            "text/plain": [
              "<Figure size 432x288 with 1 Axes>"
            ],
            "image/png": "[encoded data removed]"
          },
          "metadata": {
            "needs_background": "light"
          }
        }
      ]
    }
  ]
}